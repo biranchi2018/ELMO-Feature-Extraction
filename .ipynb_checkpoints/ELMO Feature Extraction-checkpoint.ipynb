{
 "cells": [
  {
   "cell_type": "code",
   "execution_count": 2,
   "metadata": {},
   "outputs": [
    {
     "name": "stdout",
     "output_type": "stream",
     "text": [
      "Collecting tensorflow_hub\n",
      "\u001b[?25l  Downloading https://files.pythonhosted.org/packages/00/0e/a91780d07592b1abf9c91344ce459472cc19db3b67fdf3a61dca6ebb2f5c/tensorflow_hub-0.7.0-py2.py3-none-any.whl (89kB)\n",
      "\u001b[K     |████████████████████████████████| 92kB 2.5MB/s eta 0:00:01\n",
      "\u001b[?25hRequirement already satisfied: numpy>=1.12.0 in /Library/Frameworks/Python.framework/Versions/3.6/lib/python3.6/site-packages (from tensorflow_hub) (1.16.1)\n",
      "Requirement already satisfied: six>=1.10.0 in /Library/Frameworks/Python.framework/Versions/3.6/lib/python3.6/site-packages (from tensorflow_hub) (1.12.0)\n",
      "Requirement already satisfied: protobuf>=3.4.0 in /Library/Frameworks/Python.framework/Versions/3.6/lib/python3.6/site-packages (from tensorflow_hub) (3.10.0)\n",
      "Requirement already satisfied: setuptools in /Users/biranchi/Library/Python/3.6/lib/python/site-packages (from protobuf>=3.4.0->tensorflow_hub) (41.2.0)\n",
      "Installing collected packages: tensorflow-hub\n",
      "Successfully installed tensorflow-hub-0.7.0\n",
      "\u001b[33mWARNING: You are using pip version 19.2.3, however version 19.3.1 is available.\n",
      "You should consider upgrading via the 'pip install --upgrade pip' command.\u001b[0m\n"
     ]
    }
   ],
   "source": [
    "# !pip3 install tensorflow_hub"
   ]
  },
  {
   "cell_type": "code",
   "execution_count": 9,
   "metadata": {},
   "outputs": [],
   "source": [
    "import pandas as pd\n",
    "import numpy as np\n",
    "import spacy\n",
    "from tqdm import tqdm\n",
    "import re\n",
    "import time\n",
    "import pickle\n",
    "pd.set_option('display.max_colwidth', 200)"
   ]
  },
  {
   "cell_type": "code",
   "execution_count": 18,
   "metadata": {},
   "outputs": [
    {
     "data": {
      "text/plain": [
       "((7920, 3), (1953, 2))"
      ]
     },
     "execution_count": 18,
     "metadata": {},
     "output_type": "execute_result"
    }
   ],
   "source": [
    "# read data\n",
    "train = pd.read_csv(\"train_2kmZucJ.csv\")\n",
    "test = pd.read_csv(\"test_oJQbWVk.csv\")\n",
    "\n",
    "train.shape, test.shape"
   ]
  },
  {
   "cell_type": "code",
   "execution_count": 19,
   "metadata": {},
   "outputs": [
    {
     "data": {
      "text/plain": [
       "0    0.744192\n",
       "1    0.255808\n",
       "Name: label, dtype: float64"
      ]
     },
     "execution_count": 19,
     "metadata": {},
     "output_type": "execute_result"
    }
   ],
   "source": [
    "train['label'].value_counts(normalize = True)"
   ]
  },
  {
   "cell_type": "code",
   "execution_count": 20,
   "metadata": {},
   "outputs": [
    {
     "data": {
      "text/html": [
       "<div>\n",
       "<style scoped>\n",
       "    .dataframe tbody tr th:only-of-type {\n",
       "        vertical-align: middle;\n",
       "    }\n",
       "\n",
       "    .dataframe tbody tr th {\n",
       "        vertical-align: top;\n",
       "    }\n",
       "\n",
       "    .dataframe thead th {\n",
       "        text-align: right;\n",
       "    }\n",
       "</style>\n",
       "<table border=\"1\" class=\"dataframe\">\n",
       "  <thead>\n",
       "    <tr style=\"text-align: right;\">\n",
       "      <th></th>\n",
       "      <th>id</th>\n",
       "      <th>label</th>\n",
       "      <th>tweet</th>\n",
       "    </tr>\n",
       "  </thead>\n",
       "  <tbody>\n",
       "    <tr>\n",
       "      <td>0</td>\n",
       "      <td>1</td>\n",
       "      <td>0</td>\n",
       "      <td>#fingerprint #Pregnancy Test https://goo.gl/h1MfQV #android #apps #beautiful #cute #health #igers #iphoneonly #iphonesia #iphone</td>\n",
       "    </tr>\n",
       "    <tr>\n",
       "      <td>1</td>\n",
       "      <td>2</td>\n",
       "      <td>0</td>\n",
       "      <td>Finally a transparant silicon case ^^ Thanks to my uncle :) #yay #Sony #Xperia #S #sonyexperias… http://instagram.com/p/YGEt5JC6JM/</td>\n",
       "    </tr>\n",
       "    <tr>\n",
       "      <td>2</td>\n",
       "      <td>3</td>\n",
       "      <td>0</td>\n",
       "      <td>We love this! Would you go? #talk #makememories #unplug #relax #iphone #smartphone #wifi #connect... http://fb.me/6N3LsUpCu</td>\n",
       "    </tr>\n",
       "    <tr>\n",
       "      <td>3</td>\n",
       "      <td>4</td>\n",
       "      <td>0</td>\n",
       "      <td>I'm wired I know I'm George I was made that way ;) #iphone #cute #daventry #home http://instagr.am/p/Li_5_ujS4k/</td>\n",
       "    </tr>\n",
       "    <tr>\n",
       "      <td>4</td>\n",
       "      <td>5</td>\n",
       "      <td>1</td>\n",
       "      <td>What amazing service! Apple won't even talk to me about a question I have unless I pay them $19.95 for their stupid support!</td>\n",
       "    </tr>\n",
       "  </tbody>\n",
       "</table>\n",
       "</div>"
      ],
      "text/plain": [
       "   id  label  \\\n",
       "0   1      0   \n",
       "1   2      0   \n",
       "2   3      0   \n",
       "3   4      0   \n",
       "4   5      1   \n",
       "\n",
       "                                                                                                                                 tweet  \n",
       "0     #fingerprint #Pregnancy Test https://goo.gl/h1MfQV #android #apps #beautiful #cute #health #igers #iphoneonly #iphonesia #iphone  \n",
       "1  Finally a transparant silicon case ^^ Thanks to my uncle :) #yay #Sony #Xperia #S #sonyexperias… http://instagram.com/p/YGEt5JC6JM/  \n",
       "2          We love this! Would you go? #talk #makememories #unplug #relax #iphone #smartphone #wifi #connect... http://fb.me/6N3LsUpCu  \n",
       "3                     I'm wired I know I'm George I was made that way ;) #iphone #cute #daventry #home http://instagr.am/p/Li_5_ujS4k/  \n",
       "4         What amazing service! Apple won't even talk to me about a question I have unless I pay them $19.95 for their stupid support!  "
      ]
     },
     "execution_count": 20,
     "metadata": {},
     "output_type": "execute_result"
    }
   ],
   "source": [
    "train.head()"
   ]
  },
  {
   "cell_type": "code",
   "execution_count": 21,
   "metadata": {},
   "outputs": [],
   "source": [
    "# remove URL's from train and test\n",
    "train['clean_tweet'] = train['tweet'].apply(lambda x: re.sub(r'http\\S+', '', x))\n",
    "\n",
    "test['clean_tweet'] = test['tweet'].apply(lambda x: re.sub(r'http\\S+', '', x))"
   ]
  },
  {
   "cell_type": "code",
   "execution_count": 22,
   "metadata": {},
   "outputs": [],
   "source": [
    "# remove punctuation marks\n",
    "punctuation = '!\"#$%&()*+-/:;<=>?@[\\\\]^_`{|}~'\n",
    "\n",
    "train['clean_tweet'] = train['clean_tweet'].apply(lambda x: ''.join(ch for ch in x if ch not in set(punctuation)))\n",
    "test['clean_tweet'] = test['clean_tweet'].apply(lambda x: ''.join(ch for ch in x if ch not in set(punctuation)))\n",
    "\n",
    "# convert text to lowercase\n",
    "train['clean_tweet'] = train['clean_tweet'].str.lower()\n",
    "test['clean_tweet'] = test['clean_tweet'].str.lower()\n",
    "\n",
    "# remove numbers\n",
    "train['clean_tweet'] = train['clean_tweet'].str.replace(\"[0-9]\", \" \")\n",
    "test['clean_tweet'] = test['clean_tweet'].str.replace(\"[0-9]\", \" \")\n",
    "\n",
    "# remove whitespaces\n",
    "train['clean_tweet'] = train['clean_tweet'].apply(lambda x:' '.join(x.split()))\n",
    "test['clean_tweet'] = test['clean_tweet'].apply(lambda x: ' '.join(x.split()))"
   ]
  },
  {
   "cell_type": "code",
   "execution_count": 23,
   "metadata": {},
   "outputs": [],
   "source": [
    "# import spaCy's language model\n",
    "nlp = spacy.load('en', disable=['parser', 'ner'])\n",
    "\n",
    "# function to lemmatize text\n",
    "def lemmatization(texts):\n",
    "    output = []\n",
    "    for i in texts:\n",
    "        s = [token.lemma_ for token in nlp(i)]\n",
    "        output.append(' '.join(s))\n",
    "    return output"
   ]
  },
  {
   "cell_type": "code",
   "execution_count": 24,
   "metadata": {},
   "outputs": [],
   "source": [
    "train['clean_tweet'] = lemmatization(train['clean_tweet'])\n",
    "test['clean_tweet'] = lemmatization(test['clean_tweet'])"
   ]
  },
  {
   "cell_type": "code",
   "execution_count": 25,
   "metadata": {},
   "outputs": [
    {
     "data": {
      "text/html": [
       "<div>\n",
       "<style scoped>\n",
       "    .dataframe tbody tr th:only-of-type {\n",
       "        vertical-align: middle;\n",
       "    }\n",
       "\n",
       "    .dataframe tbody tr th {\n",
       "        vertical-align: top;\n",
       "    }\n",
       "\n",
       "    .dataframe thead th {\n",
       "        text-align: right;\n",
       "    }\n",
       "</style>\n",
       "<table border=\"1\" class=\"dataframe\">\n",
       "  <thead>\n",
       "    <tr style=\"text-align: right;\">\n",
       "      <th></th>\n",
       "      <th>id</th>\n",
       "      <th>label</th>\n",
       "      <th>tweet</th>\n",
       "      <th>clean_tweet</th>\n",
       "    </tr>\n",
       "  </thead>\n",
       "  <tbody>\n",
       "    <tr>\n",
       "      <td>7404</td>\n",
       "      <td>7405</td>\n",
       "      <td>0</td>\n",
       "      <td>Just deleted all of my messages between Patrick and I accidentally iphone #mad</td>\n",
       "      <td>just delete all of -PRON- message between patrick and i accidentally iphone mad</td>\n",
       "    </tr>\n",
       "    <tr>\n",
       "      <td>6949</td>\n",
       "      <td>6950</td>\n",
       "      <td>0</td>\n",
       "      <td>Hey Guys! Look Nokia-8800-Sapphire-Arte-LUXUS-Handy-Phone http://zpr.io/6MP3Y #money #today #life #twitch #birthday #sale #android #windows #nokia #samsung #iphone #phone #smartphone #motorola #of...</td>\n",
       "      <td>hey guy look nokia sapphirearteluxushandyphone money today life twitch birthday sale android window nokia samsung iphone phone smartphone motorola offer bestprice jul , pm</td>\n",
       "    </tr>\n",
       "    <tr>\n",
       "      <td>5516</td>\n",
       "      <td>5517</td>\n",
       "      <td>0</td>\n",
       "      <td>Shot from the camera on a commercial shoot. . . . . . #video #photooftheday #beautiful #producer #live #fashion #videoproduction #follow #iphone #apple #actor #shotoniphone #thinkenvy #canon #cano...</td>\n",
       "      <td>shoot from the camera on a commercial shoot . . . . . . video photooftheday beautiful producer live fashion videoproduction follow iphone apple actor shotoniphone thinkenvy canon canonc c business...</td>\n",
       "    </tr>\n",
       "    <tr>\n",
       "      <td>1755</td>\n",
       "      <td>1756</td>\n",
       "      <td>0</td>\n",
       "      <td>@yosp I'm so happy when the PS4 will come out. Welcome 2 the future of gaming :) #PS4 #gaming #sony</td>\n",
       "      <td>yosp -PRON- be so happy when the ps will come out . welcome the future of gaming ps game sony</td>\n",
       "    </tr>\n",
       "    <tr>\n",
       "      <td>4833</td>\n",
       "      <td>4834</td>\n",
       "      <td>0</td>\n",
       "      <td>Gotta have a fashion case! #likeacharm #iphone #iphone5s #leopard #case #fashion #new http://instagram.com/p/lGCNXoN8oN/</td>\n",
       "      <td>get to have a fashion case likeacharm iphone iphone s leopard case fashion new</td>\n",
       "    </tr>\n",
       "    <tr>\n",
       "      <td>1891</td>\n",
       "      <td>1892</td>\n",
       "      <td>0</td>\n",
       "      <td>I’m Pretty Sure These Orangutans… http://dlvr.it/Lnj2St #news #photography #fashion #health #fail #tech #ipad #iphone #funny #lol</td>\n",
       "      <td>-PRON- be pretty sure these orangutan … news photography fashion health fail tech ipad iphone funny lol</td>\n",
       "    </tr>\n",
       "    <tr>\n",
       "      <td>6306</td>\n",
       "      <td>6307</td>\n",
       "      <td>0</td>\n",
       "      <td>10Pcs Exquisite Squishy Random Charm in http://ebay.to/2yI9MR7 #iPhone Straps #Toys Decor #free #shop #style #sales #today #giveawaypic.twitter.com/b8MSUXKiHR</td>\n",
       "      <td>pcs exquisite squishy random charm in iphone strap toy decor free shop style sale today giveawaypic.twitter.comb msuxkihr</td>\n",
       "    </tr>\n",
       "    <tr>\n",
       "      <td>53</td>\n",
       "      <td>54</td>\n",
       "      <td>0</td>\n",
       "      <td>Inbox: Letters to the Editor #news #photography #fashion #health #fail #tech #ipad #iphone #funny #lolpic.twitter.com/iK1RHUMoVz</td>\n",
       "      <td>inbox letter to the editor news photography fashion health fail tech ipad iphone funny lolpic.twitter.comik rhumovz</td>\n",
       "    </tr>\n",
       "    <tr>\n",
       "      <td>4541</td>\n",
       "      <td>4542</td>\n",
       "      <td>0</td>\n",
       "      <td>RT @umairsandhu #Woman uses #iPhone to get #Pregnant. http://ow.ly/1nApq2 #mm #Phone #Gadget #Technology #applle #apps</td>\n",
       "      <td>rt umairsandhu woman use iphone to get pregnant . mm phone gadget technology applle app</td>\n",
       "    </tr>\n",
       "    <tr>\n",
       "      <td>1004</td>\n",
       "      <td>1005</td>\n",
       "      <td>0</td>\n",
       "      <td>Like a geisha #kimono #geisha #jepang #pink #beauty #makeup #hairdo #red #sephora #iphone… https://instagram.com/p/1fZ3j_uG76/</td>\n",
       "      <td>like a geisha kimono geisha jepang pink beauty makeup hairdo red sephora iphone …</td>\n",
       "    </tr>\n",
       "  </tbody>\n",
       "</table>\n",
       "</div>"
      ],
      "text/plain": [
       "        id  label  \\\n",
       "7404  7405      0   \n",
       "6949  6950      0   \n",
       "5516  5517      0   \n",
       "1755  1756      0   \n",
       "4833  4834      0   \n",
       "1891  1892      0   \n",
       "6306  6307      0   \n",
       "53      54      0   \n",
       "4541  4542      0   \n",
       "1004  1005      0   \n",
       "\n",
       "                                                                                                                                                                                                        tweet  \\\n",
       "7404                                                                                                                           Just deleted all of my messages between Patrick and I accidentally iphone #mad   \n",
       "6949  Hey Guys! Look Nokia-8800-Sapphire-Arte-LUXUS-Handy-Phone http://zpr.io/6MP3Y #money #today #life #twitch #birthday #sale #android #windows #nokia #samsung #iphone #phone #smartphone #motorola #of...   \n",
       "5516  Shot from the camera on a commercial shoot. . . . . . #video #photooftheday #beautiful #producer #live #fashion #videoproduction #follow #iphone #apple #actor #shotoniphone #thinkenvy #canon #cano...   \n",
       "1755                                                                                                      @yosp I'm so happy when the PS4 will come out. Welcome 2 the future of gaming :) #PS4 #gaming #sony   \n",
       "4833                                                                                 Gotta have a fashion case! #likeacharm #iphone #iphone5s #leopard #case #fashion #new http://instagram.com/p/lGCNXoN8oN/   \n",
       "1891                                                                        I’m Pretty Sure These Orangutans… http://dlvr.it/Lnj2St #news #photography #fashion #health #fail #tech #ipad #iphone #funny #lol   \n",
       "6306                                           10Pcs Exquisite Squishy Random Charm in http://ebay.to/2yI9MR7 #iPhone Straps #Toys Decor #free #shop #style #sales #today #giveawaypic.twitter.com/b8MSUXKiHR   \n",
       "53                                                                           Inbox: Letters to the Editor #news #photography #fashion #health #fail #tech #ipad #iphone #funny #lolpic.twitter.com/iK1RHUMoVz   \n",
       "4541                                                                                   RT @umairsandhu #Woman uses #iPhone to get #Pregnant. http://ow.ly/1nApq2 #mm #Phone #Gadget #Technology #applle #apps   \n",
       "1004                                                                           Like a geisha #kimono #geisha #jepang #pink #beauty #makeup #hairdo #red #sephora #iphone… https://instagram.com/p/1fZ3j_uG76/   \n",
       "\n",
       "                                                                                                                                                                                                  clean_tweet  \n",
       "7404                                                                                                                          just delete all of -PRON- message between patrick and i accidentally iphone mad  \n",
       "6949                              hey guy look nokia sapphirearteluxushandyphone money today life twitch birthday sale android window nokia samsung iphone phone smartphone motorola offer bestprice jul , pm  \n",
       "5516  shoot from the camera on a commercial shoot . . . . . . video photooftheday beautiful producer live fashion videoproduction follow iphone apple actor shotoniphone thinkenvy canon canonc c business...  \n",
       "1755                                                                                                            yosp -PRON- be so happy when the ps will come out . welcome the future of gaming ps game sony  \n",
       "4833                                                                                                                           get to have a fashion case likeacharm iphone iphone s leopard case fashion new  \n",
       "1891                                                                                                  -PRON- be pretty sure these orangutan … news photography fashion health fail tech ipad iphone funny lol  \n",
       "6306                                                                                pcs exquisite squishy random charm in iphone strap toy decor free shop style sale today giveawaypic.twitter.comb msuxkihr  \n",
       "53                                                                                        inbox letter to the editor news photography fashion health fail tech ipad iphone funny lolpic.twitter.comik rhumovz  \n",
       "4541                                                                                                                  rt umairsandhu woman use iphone to get pregnant . mm phone gadget technology applle app  \n",
       "1004                                                                                                                        like a geisha kimono geisha jepang pink beauty makeup hairdo red sephora iphone …  "
      ]
     },
     "execution_count": 25,
     "metadata": {},
     "output_type": "execute_result"
    }
   ],
   "source": [
    "train.sample(10)"
   ]
  },
  {
   "cell_type": "code",
   "execution_count": null,
   "metadata": {},
   "outputs": [],
   "source": []
  },
  {
   "cell_type": "code",
   "execution_count": null,
   "metadata": {},
   "outputs": [],
   "source": []
  },
  {
   "cell_type": "code",
   "execution_count": 26,
   "metadata": {},
   "outputs": [],
   "source": [
    "import tensorflow_hub as hub\n",
    "import tensorflow as tf\n",
    "import ssl\n",
    "\n",
    "try:\n",
    "    _create_unverified_https_context = ssl._create_unverified_context\n",
    "except AttributeError:\n",
    "    # Legacy Python that doesn't verify HTTPS certificates by default\n",
    "    pass\n",
    "else:\n",
    "    # Handle target environment that doesn't support HTTPS verification\n",
    "    ssl._create_default_https_context = _create_unverified_https_context\n",
    "\n",
    "\n",
    "elmo = hub.Module(\"https://tfhub.dev/google/elmo/2\", trainable=True)"
   ]
  },
  {
   "cell_type": "code",
   "execution_count": 27,
   "metadata": {},
   "outputs": [
    {
     "data": {
      "text/plain": [
       "TensorShape([Dimension(1), Dimension(8), Dimension(1024)])"
      ]
     },
     "execution_count": 27,
     "metadata": {},
     "output_type": "execute_result"
    }
   ],
   "source": [
    "# just a random sentence\n",
    "x = [\"Roasted ants are a popular snack in Columbia\"]\n",
    "\n",
    "# Extract ELMo features \n",
    "embeddings = elmo(x, signature=\"default\", as_dict=True)[\"elmo\"]\n",
    "\n",
    "embeddings.shape"
   ]
  },
  {
   "cell_type": "code",
   "execution_count": 28,
   "metadata": {},
   "outputs": [],
   "source": [
    "def elmo_vectors(x):\n",
    "  embeddings = elmo(x.tolist(), signature=\"default\", as_dict=True)[\"elmo\"]\n",
    "\n",
    "  with tf.Session() as sess:\n",
    "    sess.run(tf.global_variables_initializer())\n",
    "    sess.run(tf.tables_initializer())\n",
    "    # return average of ELMo features\n",
    "    return sess.run(tf.reduce_mean(embeddings,1))"
   ]
  },
  {
   "cell_type": "code",
   "execution_count": 29,
   "metadata": {},
   "outputs": [],
   "source": [
    "list_train = [train[i:i+100] for i in range(0,train.shape[0],100)]\n",
    "list_test = [test[i:i+100] for i in range(0,test.shape[0],100)]"
   ]
  },
  {
   "cell_type": "code",
   "execution_count": null,
   "metadata": {},
   "outputs": [],
   "source": [
    "# Extract ELMo embeddings\n",
    "elmo_train = [elmo_vectors(x['clean_tweet']) for x in list_train]\n",
    "elmo_test = [elmo_vectors(x['clean_tweet']) for x in list_test]"
   ]
  },
  {
   "cell_type": "code",
   "execution_count": null,
   "metadata": {},
   "outputs": [],
   "source": [
    "elmo_train_new = np.concatenate(elmo_train, axis = 0)\n",
    "elmo_test_new = np.concatenate(elmo_test, axis = 0)"
   ]
  },
  {
   "cell_type": "code",
   "execution_count": null,
   "metadata": {},
   "outputs": [],
   "source": [
    "# save elmo_train_new\n",
    "pickle_out = open(\"elmo_train_03032019.pickle\",\"wb\")\n",
    "pickle.dump(elmo_train_new, pickle_out)\n",
    "pickle_out.close()\n",
    "\n",
    "# save elmo_test_new\n",
    "pickle_out = open(\"elmo_test_03032019.pickle\",\"wb\")\n",
    "pickle.dump(elmo_test_new, pickle_out)\n",
    "pickle_out.close()"
   ]
  },
  {
   "cell_type": "code",
   "execution_count": null,
   "metadata": {},
   "outputs": [],
   "source": [
    "# load elmo_train_new\n",
    "pickle_in = open(\"elmo_train_03032019.pickle\", \"rb\")\n",
    "elmo_train_new = pickle.load(pickle_in)\n",
    "\n",
    "# load elmo_train_new\n",
    "pickle_in = open(\"elmo_test_03032019.pickle\", \"rb\")\n",
    "elmo_test_new = pickle.load(pickle_in)"
   ]
  },
  {
   "cell_type": "code",
   "execution_count": null,
   "metadata": {},
   "outputs": [],
   "source": [
    "from sklearn.model_selection import train_test_split\n",
    "\n",
    "xtrain, xvalid, ytrain, yvalid = train_test_split(elmo_train_new, \n",
    "                                                  train['label'],  \n",
    "                                                  random_state=42, \n",
    "                                                  test_size=0.2)"
   ]
  },
  {
   "cell_type": "code",
   "execution_count": null,
   "metadata": {},
   "outputs": [],
   "source": [
    "from sklearn.linear_model import LogisticRegression\n",
    "from sklearn.metrics import f1_score\n",
    "\n",
    "lreg = LogisticRegression()\n",
    "lreg.fit(xtrain, ytrain)"
   ]
  },
  {
   "cell_type": "code",
   "execution_count": null,
   "metadata": {},
   "outputs": [],
   "source": [
    "preds_valid = lreg.predict(xvalid)"
   ]
  },
  {
   "cell_type": "code",
   "execution_count": null,
   "metadata": {},
   "outputs": [],
   "source": [
    "f1_score(yvalid, preds_valid)"
   ]
  },
  {
   "cell_type": "code",
   "execution_count": null,
   "metadata": {},
   "outputs": [],
   "source": [
    "# make predictions on test set\n",
    "preds_test = lreg.predict(elmo_test_new)"
   ]
  },
  {
   "cell_type": "code",
   "execution_count": null,
   "metadata": {},
   "outputs": [],
   "source": [
    "# prepare submission dataframe\n",
    "sub = pd.DataFrame({'id':test['id'], 'label':preds_test})\n",
    "\n",
    "# write predictions to a CSV file\n",
    "sub.to_csv(\"sub_lreg.csv\", index=False)"
   ]
  },
  {
   "cell_type": "code",
   "execution_count": null,
   "metadata": {},
   "outputs": [],
   "source": []
  }
 ],
 "metadata": {
  "kernelspec": {
   "display_name": "Python 3",
   "language": "python",
   "name": "python3"
  },
  "language_info": {
   "codemirror_mode": {
    "name": "ipython",
    "version": 3
   },
   "file_extension": ".py",
   "mimetype": "text/x-python",
   "name": "python",
   "nbconvert_exporter": "python",
   "pygments_lexer": "ipython3",
   "version": "3.6.6"
  }
 },
 "nbformat": 4,
 "nbformat_minor": 2
}
